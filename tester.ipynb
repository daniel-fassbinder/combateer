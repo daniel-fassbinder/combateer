{
 "cells": [
  {
   "cell_type": "code",
   "execution_count": null,
   "id": "f3465ae4",
   "metadata": {},
   "outputs": [],
   "source": [
    "from typing import Dict, Tuple, List\n"
   ]
  },
  {
   "cell_type": "code",
   "execution_count": 19,
   "id": "82c8c7af",
   "metadata": {},
   "outputs": [
    {
     "name": "stdout",
     "output_type": "stream",
     "text": [
      "X X X . . . . . . . . . . . . . . . . . . . . . . . . . . .\n",
      "X X X . . . . . . . . . . . . . . . . . . . . . . . . . . .\n",
      "X X X . . . . . . . . . . . . . . . . . . . . . . . . . . .\n",
      ". . . . . . . . . . . . . . . . . . . . . . . . . . . . . .\n",
      ". . . . . . . . . . . . . . . . . . . . . . . . . . . . . .\n",
      ". . . . . . . . . . . . . . . . . . . . . . . . . . . . . .\n",
      ". . . . . . . . . . . . . . . . . . . . . . . . . . . . . .\n",
      ". . . . . . . . . . . . . . . . . . . . . . . . . . . . . .\n",
      ". . . . . . . . . . . . . . . . . . . . . . . . . . . . . .\n",
      ". . . . . . . . . . . . . . . . . . . . . . . . . . . . . .\n",
      ". . . . . . . . . . . . . . . . . . . . . . . . . . . . . .\n",
      ". . . . . . . . . . . . . . . . . . . . . . . . . . . . . .\n",
      ". . . . . . . . . . . . . . . . . . . . . . . . . . . . . .\n",
      ". . . . . . . . . . . . . . . . . . . . . . . . . . . . . .\n",
      ". . . . . . . . . . . . . . . . . . . . . . . . . . . . . .\n",
      ". . . . . . . . . . . . . . . . . . . . . . . . . . . . . .\n",
      ". . . . . . . . . . . . . . . . . . . . . . . . . . . . . .\n",
      ". . . . . . . . . . . . . . . . . . . . . . . . . . . . . .\n",
      ". . . . . . . . . . . . . . . . . . . . . . . . . . . . . .\n",
      ". . . . . . . . . . . . . . . . . . . . . . . . . . . . . .\n",
      ". . . . . . . . . . . . . . . . . . . . . . . . . . . . . .\n",
      ". . . . . . . . . . . . . . . . . . . . . . . . . . . . . .\n",
      ". . . . . . . . . . . . . . . . . . . . . . . . . . . . . .\n",
      ". . . . . . . . . . . . . . . . . . . . . . . . . . . . . .\n",
      ". . . . . . . . . . . . . . . . . . . . . . . . . . . . . .\n",
      ". . . . . . . . . . . . . . . . . . . . . . . . . . . . . .\n",
      ". . . . . . . . . . . . . . . . . . . . . . . . . . . . . .\n",
      ". . . . . . . . . . . . . . . . . . . . . . . . . . . . . .\n",
      ". . . . . . . . . . . . . . . . . . . . . . . . . . . . . .\n",
      ". . . . . . . . . . . . . . . . . . . . . . . . . . . . . .\n"
     ]
    }
   ],
   "source": [
    "from typing import List, Tuple\n",
    "import math\n",
    "\n",
    "Coord = Tuple[int, int]\n",
    "\n",
    "def get_area_coords(center: Coord, size: int, form: str) -> List[Coord]:\n",
    "    cx, cy = center\n",
    "    coords: List[Coord] = []\n",
    "\n",
    "    if form == \"quadrat\":\n",
    "        half = size // 2\n",
    "        x_start = cx - half\n",
    "        y_start = cy - half\n",
    "        x_end = x_start + size -1\n",
    "        y_end = y_start + size -1\n",
    "        for x in range(x_start, x_end +1):\n",
    "            for y in range(y_start, y_end +1):\n",
    "                coords.append((x, y))\n",
    "\n",
    "    elif form == \"kreis\":\n",
    "        radius = size\n",
    "        for x in range(cx - radius, cx + radius):\n",
    "            for y in range(cy - radius, cy + radius):\n",
    "                if math.dist((cx, cy), (x, y)) <= radius -1:\n",
    "                    coords.append((x, y))\n",
    "\n",
    "    else:\n",
    "        raise ValueError(f\"Unbekannte Form: {form}\")\n",
    "\n",
    "    return coords\n",
    "\n",
    "def visualize_area_on_board(area_coords: List[Tuple[int, int]], board_size: int = 30, marker: str = \"X\") -> None:\n",
    "    board = [[\".\" for _ in range(board_size)] for _ in range(board_size)]\n",
    "\n",
    "    for x, y in area_coords:\n",
    "        if 0 <= x < board_size and 0 <= y < board_size:\n",
    "            board[y][x] = marker  # Achtung: y ist Zeile, x ist Spalte\n",
    "\n",
    "    for row in board:\n",
    "        print(\" \".join(row))\n",
    "\n",
    "visualize_area_on_board(get_area_coords((1,1),4,\"quadrat\"))\n",
    "\n"
   ]
  },
  {
   "cell_type": "code",
   "execution_count": null,
   "id": "f005bd3e",
   "metadata": {},
   "outputs": [],
   "source": [
    "\n",
    "\n",
    "\n",
    "def calculate_options(player, actions):\n"
   ]
  }
 ],
 "metadata": {
  "kernelspec": {
   "display_name": "Python 3",
   "language": "python",
   "name": "python3"
  },
  "language_info": {
   "codemirror_mode": {
    "name": "ipython",
    "version": 3
   },
   "file_extension": ".py",
   "mimetype": "text/x-python",
   "name": "python",
   "nbconvert_exporter": "python",
   "pygments_lexer": "ipython3",
   "version": "3.10.12"
  }
 },
 "nbformat": 4,
 "nbformat_minor": 5
}
